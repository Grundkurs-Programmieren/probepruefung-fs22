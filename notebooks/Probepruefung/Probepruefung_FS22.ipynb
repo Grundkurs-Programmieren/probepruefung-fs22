{
 "cells": [
  {
   "cell_type": "markdown",
   "id": "058333c3-4099-4ada-898b-014961d46047",
   "metadata": {},
   "source": [
    "**Probeprüfung**\n",
    "\n",
    "Diese Probeprüfung ist so aufgebaut, dass sie einerseits zeigt, wie das **technische System** bestehend aus Renkulab und ILIAS zu bedienen ist und andererseits, wie die Fragen **inhaltlich** aufgebaut sein könnten.\n",
    "\n",
    "## Anweisungen\n",
    "\n",
    "Erstellen Sie den Quellcode in den dafür vorgesehen Abschnitten der entsprechenden Zellen. **Speichern** Sie unbedingt ihr Notebook (Menu \"File/Save Notebook\"), bevor Sie es auf ihren Computer **downloaden** (Menu \"File/Download\"). Diese runtergeladene Datei (mit Dateiname \"Probepruefung_FS22.ipynb\") bitte in ILIAS als Lösung abgeben."
   ]
  },
  {
   "cell_type": "markdown",
   "id": "8ce2c2e1-3d2d-4ed9-939e-1bec6395ed8a",
   "metadata": {},
   "source": [
    "# Aufgabe HTML/CSS"
   ]
  },
  {
   "cell_type": "markdown",
   "id": "0ff95449-4532-443d-98e4-3f908b77557c",
   "metadata": {},
   "source": [
    "Passe den nachfolgenden HTML Quellcode zwischen den Markierungen `<!-- Beginn eigener Code -->` und `<!-- Ende eigener Code -->` so an, dass das gerenderte Resultat dem im nachfolgenden Bild gezeigten entspricht. \n",
    "\n",
    "Bitte nur Quellcode zwischen den Markierungen einfügen und diese und den Rest des Quellcodes unverändert lassen. Sprechen Sie die HTML Elemente über den vorgegebenen Klassennamen an. Die verwendete Farbe ist **LightSteelBlue** und die Schriftart des Paragraphen ist **Georgia**.\n",
    "\n",
    "<img src=\"img/Probepruefung_FS22_HTML_CSS_1.jpg\" width=\"800\">"
   ]
  },
  {
   "cell_type": "code",
   "execution_count": null,
   "id": "4cc70ca0-9b89-43ba-ba49-2b4107f669f9",
   "metadata": {},
   "outputs": [],
   "source": [
    "%%html\n",
    "\n",
    "<!-- Beginn eigener Code -->\n",
    "<!-- Ende eigener Code -->\n",
    "\n",
    "<h1 class=\"probepruefung_HTML_CSS_h1\">Fahrrad</h1>\n",
    "\n",
    "<p class=\"probepruefung_HTML_CSS_p\">Ein Fahrrad, kurz Rad, in der Schweiz Velo (von französisch le vélo, Kurzform für vélocipède ‚Schnellfuß‘; lateinisch velox ‚schnell‘ und pes ‚Fuß‘), \n",
    "ist ein mindestens zweirädriges, für gewöhnlich einspuriges Landfahrzeug, das ausschließlich durch die Muskelkraft auf ihm befindlicher Personen durch das \n",
    "Treten von Pedalen oder Handkurbeln angetrieben wird. Durch den Nachlauf entsteht bei einem Lenkausschlag ein Drehmoment, das diesem als Rückstellmoment \n",
    "entgegengerichtet ist. Dadurch lenkt das rollende Fahrzeug selbstständig zurück bis (fast) zur Geradeausstellung. Die Kreiselkräfte stabilisieren das \n",
    "Fahrrad beim Fahren zusätzlich abhängig vom Trägheitsmoment und der Geschwindigkeit. Außerdem haben weitere Faktoren wie die Masseverteilung einen \n",
    "Einfluss auf die Fahrstabilität von einspurigen Fahrzeugen (siehe auch: Fahrphysik (Fahrrad)).</p>\n",
    "\n",
    "<h2 class=\"probepruefung_HTML_CSS_h2\">Name</h2>\n",
    "\n",
    "<p class=\"probepruefung_HTML_CSS_p\">Das Wort Fahrrad wurde von den deutschen Radfahrervereinen 1885 als deutsche Entsprechung für die englische Bezeichnung bicycle (englisch von französisch \n",
    "le vélocipède bicycle ‚das zweirädrige Veloziped‘) eingeführt. Der neue Ausdruck trat im alltäglichen Sprachgebrauch zunehmend neben die aus dem Französischen \n",
    "entlehnte etablierte Bezeichnung Veloziped. Er konnte sich letztlich durchsetzen, als in der Zeit der Weimarer Republik das Französische als die Sprache des \n",
    "Hochadels zusehends abgelehnt wurde. Auch die Wörter Radfahrer (umgangssprachlich: Radler) und Radfahren stammen von deutschen Radfahrervereinen. \n",
    "Bis zur Mitte der 1920er Jahre war der Ausdruck Fahrrad eher für Motorräder verwendet worden, und deren Motor hieß häufig Fahrradmotor.</p>"
   ]
  },
  {
   "cell_type": "markdown",
   "id": "c3457031-f7f0-4202-83db-292955e325c0",
   "metadata": {
    "tags": []
   },
   "source": [
    "# Aufgabe JavaScript"
   ]
  },
  {
   "cell_type": "markdown",
   "id": "ae25cb83-5564-48a1-911a-d7c1dd5cb4fb",
   "metadata": {},
   "source": [
    "Passe den nachfolgenden HTML Quellcode zwischen den Markierungen `<!-- Beginn eigener Code -->` und `<!-- Ende eigener Code -->` so an, dass bei einem Klick auf den Button **Glossar hinzufügen** die Tabelle entsprechend dem angehängten Bild gestaltet wird. Es sollen also alle Begriffe, die mit `<span class=\"probepruefung_JS_1\">...</span>` gekennzeichnet sind, als Spalte in der Tabelle unter **Begriff** erscheinen.\n",
    "\n",
    "<img src=\"img/Probepruefung_FS22_JS_1.jpg\" width=\"200\">"
   ]
  },
  {
   "cell_type": "code",
   "execution_count": null,
   "id": "63ba757e-10d9-4121-900c-1143752f0810",
   "metadata": {},
   "outputs": [],
   "source": [
    "%%html\n",
    "\n",
    "<style>\n",
    ".probepruefung_JS_1 {\n",
    "    text-decoration: underline;\n",
    "    text-decoration-style: dotted;\n",
    "}\n",
    "</style>\n",
    "\n",
    "<p>JavaScript kennt die üblichen <span class=\"probepruefung_JS_1\">Kontrollstrukturen</span>. Sollen diese mehr als eine \n",
    "<span class=\"probepruefung_JS_1\">Anweisung</span> enthalten, so muss ein in <span class=\"probepruefung_JS_1\">Geschweifte Klammern</span> eingeschlossener \n",
    "<span class=\"probepruefung_JS_1\">Block</span> eingesetzt werden. \n",
    "Anweisungen werden mit einem <span class=\"probepruefung_JS_1\">Semikolon</span> abgeschlossen. Dies ist aber in den meisten Fällen optional; \n",
    "durch die automatic semicolon insertion wird es meist automatisch ergänzt.</p>\n",
    "\n",
    "\n",
    "<table id=\"probepruefung_JS_2\">\n",
    "    <tr>\n",
    "        <th>Begriff</th>\n",
    "        <th>Bedeutung</th>\n",
    "    </tr>\n",
    "</table>\n",
    "\n",
    "<!-- Beginn eigener Code -->\n",
    "<!-- Ende eigener Code -->\n",
    "\n",
    "<button onclick=\"addGlossary()\">Glossar hinzufügen</button>"
   ]
  },
  {
   "cell_type": "markdown",
   "id": "eaff636b-0e34-48a2-b02f-727559347450",
   "metadata": {},
   "source": [
    "# Aufgabe Python"
   ]
  },
  {
   "cell_type": "markdown",
   "id": "8c1ec6d7-7c75-44c6-bf20-769581d74a93",
   "metadata": {},
   "source": [
    "Nachfolgend sehen sie ein Dictionary `salary_table`. Definieren sie innerhalb des Abschnitts `# Beginn eigener Code` / `# Ende eigener Code`:\n",
    "\n",
    "* die Funktion `add_salary()` so, dass beim Aufruf von `add_salary(\"Florentina\", 10000)` geprüft wird, ob die Person in `salary_table` bereits existiert. Ist das der Fall, soll die Funktion die Meldung \"Person existiert schon!\" ausgeben, im anderen Fall soll die Person mit Name und Einkommen in `salary_table` eingefügt werden (analog den bestehenden Einträgen) und die Meldung \"Neue Person hinzugefügt!\" ausgegeben werden.\n",
    "* die Funktion `print_salary_table()` so, dass beim Aufrufen der Funktion eine Zusammenfassung von `salary_table` ausgegeben wird in der Form \"Sabine verdient: 6500\" etc.\n",
    "\n",
    "Der erwartete Output beim Ausführen der Zelle mit den vorgegebenen Funktionsaufrufen lautet also:\n",
    "\n",
    "```\n",
    "Person existiert schon!\n",
    "Neue Person hinzugefügt!\n",
    "Sabine verdient: 6500\n",
    "Adalbert verdient: 4560\n",
    "Kaila verdient: 8500\n",
    "Felix verdient: 5500\n",
    "Sigurina verdient: 12500\n",
    "Aisha verdient: 9400\n",
    "```"
   ]
  },
  {
   "cell_type": "code",
   "execution_count": null,
   "id": "13a2aed5-b4bc-4835-9edf-a0e6f811cb3c",
   "metadata": {},
   "outputs": [],
   "source": [
    "salary_table = {\n",
    "    \"Sabine\": 6500,\n",
    "    \"Adalbert\": 4560,\n",
    "    \"Kaila\": 8500,\n",
    "    \"Felix\": 5500,\n",
    "    \"Sigurina\": 12500\n",
    "}\n",
    "\n",
    "# Beginn eigener Code\n",
    "\n",
    "# Ende eigener Code        \n",
    "\n",
    "add_salary(\"Sabine\", 5000)\n",
    "add_salary(\"Aisha\", 9400)\n",
    "\n",
    "print_salary_table()"
   ]
  }
 ],
 "metadata": {
  "kernelspec": {
   "display_name": "Python 3 (ipykernel)",
   "language": "python",
   "name": "python3"
  },
  "language_info": {
   "codemirror_mode": {
    "name": "ipython",
    "version": 3
   },
   "file_extension": ".py",
   "mimetype": "text/x-python",
   "name": "python",
   "nbconvert_exporter": "python",
   "pygments_lexer": "ipython3",
   "version": "3.9.6"
  }
 },
 "nbformat": 4,
 "nbformat_minor": 5
}
